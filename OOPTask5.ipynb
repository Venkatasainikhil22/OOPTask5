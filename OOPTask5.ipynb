{
  "nbformat": 4,
  "nbformat_minor": 0,
  "metadata": {
    "colab": {
      "name": "OOPTask5",
      "provenance": [],
      "authorship_tag": "ABX9TyM6a1lxT8GBXJ76sjql8+iR",
      "include_colab_link": true
    },
    "kernelspec": {
      "name": "python3",
      "display_name": "Python 3"
    },
    "language_info": {
      "name": "python"
    }
  },
  "cells": [
    {
      "cell_type": "markdown",
      "metadata": {
        "id": "view-in-github",
        "colab_type": "text"
      },
      "source": [
        "<a href=\"https://colab.research.google.com/github/Venkatasainikhil22/OOPTask5/blob/main/OOPTask5.ipynb\" target=\"_parent\"><img src=\"https://colab.research.google.com/assets/colab-badge.svg\" alt=\"Open In Colab\"/></a>"
      ]
    },
    {
      "cell_type": "code",
      "metadata": {
        "colab": {
          "base_uri": "https://localhost:8080/",
          "height": 0
        },
        "id": "OnXtj1IaXusO",
        "outputId": "bab1af94-3513-42f9-b3b1-1ea3c9423bf5"
      },
      "source": [
        "from abc import ABC, abstractmethod\n",
        "import math as m\n",
        "class Shape(ABC):\n",
        "    def __init__(self, shape):\n",
        "        self.shape = shape\n",
        "\n",
        "    @abstractmethod\n",
        "    def area(self):\n",
        "        pass\n",
        "      \n",
        "class Circle(Shape):\n",
        "    def __init__(self, radius):\n",
        "        Shape.__init__(self, 'Circle')\n",
        "        self.radius = radius\n",
        "\n",
        "    def area(self):\n",
        "        return m.pi*self.radius**2\n",
        "\n",
        "class Square(Shape):\n",
        "    def __init__(self, side):\n",
        "        Shape.__init__(self, 'Square')\n",
        "        self.side = side\n",
        "\n",
        "    def area(self):\n",
        "        return self.side*self.side\n",
        "\n",
        "class Rectangle(Shape):\n",
        "    def __init__(self, length, breadth):\n",
        "        Shape.__init__(self, 'Rectangle')\n",
        "        self.length = length\n",
        "        self.breadth = breadth\n",
        "\n",
        "    def area(self):\n",
        "        return self.length*self.breadth\n",
        "\n",
        "c = Circle(3)\n",
        "print(\"Area of circle  :\", c.area())\n",
        "sq = Square(6)\n",
        "print(\"Area of square  :\", sq.area())\n",
        "rect = Rectangle(7,8)\n",
        "print(\"Area of rectangle  :\", rect.area())"
      ],
      "execution_count": 2,
      "outputs": [
        {
          "output_type": "stream",
          "name": "stdout",
          "text": [
            "Area of circle  : 28.274333882308138\n",
            "Area of square  : 36\n",
            "Area of rectangle  : 56\n"
          ]
        }
      ]
    },
    {
      "cell_type": "code",
      "metadata": {
        "colab": {
          "base_uri": "https://localhost:8080/",
          "height": 0
        },
        "id": "BPY-kej3dFV8",
        "outputId": "6832e40d-c069-4128-85da-0081e388ea3e"
      },
      "source": [
        "class Travel:\n",
        "\n",
        "  def __init__(self, travel):\n",
        "    self.travel = travel\n",
        "\n",
        "  def __number_of_passangers(self):\n",
        "    pass\n",
        "\n",
        "  def distance(self):\n",
        "    pass\n",
        "\n",
        "  def mode(self):\n",
        "    pass\n",
        "\n",
        "class train(Travel):\n",
        "\n",
        "  def __init__(self, total_passangers):\n",
        "    self.total_passangers = total_passangers\n",
        "\n",
        "  def cost_of_transport(self):\n",
        "    print(self.total_passangers*60)\n",
        "\n",
        "class bus(Travel):\n",
        "\n",
        "  def __init__(self, total_passangers):\n",
        "    self.total_passangers = total_passangers\n",
        "\n",
        "  def cost_of_transport(self):\n",
        "    print(self.total_passangers*100)\n",
        "\n",
        "mode1 = train(720)\n",
        "mode1.cost_of_transport()\n",
        "\n",
        "mode2 = bus(48)\n",
        "mode2.cost_of_transport()"
      ],
      "execution_count": 3,
      "outputs": [
        {
          "output_type": "stream",
          "name": "stdout",
          "text": [
            "43200\n",
            "4800\n"
          ]
        }
      ]
    },
    {
      "cell_type": "code",
      "metadata": {
        "colab": {
          "base_uri": "https://localhost:8080/"
        },
        "id": "9R76qgZhdKIt",
        "outputId": "5b67ecfe-a6bc-4092-c479-6f30cfd5a168"
      },
      "source": [
        "class car:\n",
        "  def __init__(self,car_model_number):\n",
        "    self.car_model_number=car_model_number\n",
        "\n",
        "c1=car(2003)\n",
        "c2=car(2021)\n",
        "\n",
        "print('the model number of c1 is',c1.car_model_number)\n",
        "print('the model number of c2 is',c2.car_model_number)\n",
        "print(\"\\n-----swaping the numbers-----\\n\")\n",
        "\n",
        "def carnumswap():\n",
        "  c1.car_model_number,c2.car_model_number=c2.car_model_number,c1.car_model_number\n",
        "  print(\"the model number of c1 is \",c1.car_model_number)\n",
        "  print(\"the model number of c2 is \",c2.car_model_number)\n",
        "carnumswap()"
      ],
      "execution_count": 5,
      "outputs": [
        {
          "output_type": "stream",
          "name": "stdout",
          "text": [
            "the model number of c1 is 2003\n",
            "the model number of c2 is 2021\n",
            "\n",
            "-----swaping the numbers-----\n",
            "\n",
            "the model number of c1 is  2021\n",
            "the model number of c2 is  2003\n"
          ]
        }
      ]
    }
  ]
}